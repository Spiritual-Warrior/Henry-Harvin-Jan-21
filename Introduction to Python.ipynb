{
 "cells": [
  {
   "cell_type": "markdown",
   "id": "882bfe58",
   "metadata": {},
   "source": [
    "# What is Python and why it is popular?"
   ]
  },
  {
   "cell_type": "markdown",
   "id": "86b1ef2c",
   "metadata": {},
   "source": [
    "High level language - simple and easy to learn\n",
    "Free an open source\n",
    "Portable and supports multiple platforms like google colab, jupyter notebook\n",
    "supports different programming paradigms\n",
    "Growing popularity\n",
    "Ranks top in IEEE Spectrum\n",
    "Python stands top in PTPE Index and TIOBE Index"
   ]
  },
  {
   "cell_type": "markdown",
   "id": "459fadf1",
   "metadata": {},
   "source": [
    "## Python Applications"
   ]
  },
  {
   "cell_type": "markdown",
   "id": "a1d1d4c4",
   "metadata": {},
   "source": [
    "Web app development - html, css\n",
    "Web scraping (data extraction) using libraries - BeautifulSoup, Scarpy, Octoparse\n",
    "Desktop GUI - Tkinter\n",
    "Data Science - Numpy, Pandas, Matplotlib, Seaborn, SkLearn\n",
    "Education\n",
    "ML & AI - SkLearn\n",
    "Network Programming\n",
    "Games and 3D Graphics - PyGame\n",
    "Mathematical - math, stats....\n",
    "Support language - selenium - for automation\n",
    "Database Access - Oracle, MongoDB, SQL, PostgressSQL...."
   ]
  },
  {
   "cell_type": "markdown",
   "id": "acc5652d",
   "metadata": {},
   "source": [
    "## Jupyter Notebook"
   ]
  },
  {
   "cell_type": "markdown",
   "id": "186d6540",
   "metadata": {},
   "source": [
    "Open source web app that allows you to execute live code\n",
    "Runs in web browsers\n",
    "Support 40+ prog language - Py, R, Julia, Scala....\n",
    "Name JuPyteR- Julia + Python + R"
   ]
  },
  {
   "cell_type": "markdown",
   "id": "7c95b14c",
   "metadata": {},
   "source": [
    "Run = CTRL + ENTER (only o/p) or SHIFT + ENTER (o/p + new cell below)"
   ]
  },
  {
   "cell_type": "code",
   "execution_count": 2,
   "id": "65b2ccb1",
   "metadata": {},
   "outputs": [
    {
     "name": "stdout",
     "output_type": "stream",
     "text": [
      "3\n"
     ]
    }
   ],
   "source": [
    "a=1\n",
    "b=2\n",
    "print(a+b)"
   ]
  },
  {
   "cell_type": "markdown",
   "id": "38ab1a73",
   "metadata": {},
   "source": [
    "## Data types in Python\n",
    "~ to alphabets in english language"
   ]
  },
  {
   "cell_type": "markdown",
   "id": "491c8923",
   "metadata": {},
   "source": [
    "6 datatypes in Python:-\n",
    "Number, String, List, Tuple, Set, Dictionary"
   ]
  },
  {
   "cell_type": "markdown",
   "id": "055213bc",
   "metadata": {},
   "source": [
    "### 1) Numeric Datatype"
   ]
  },
  {
   "cell_type": "markdown",
   "id": "294eb209",
   "metadata": {},
   "source": [
    "Integers, Floats, Complex"
   ]
  },
  {
   "cell_type": "code",
   "execution_count": 3,
   "id": "c59d1a3e",
   "metadata": {},
   "outputs": [
    {
     "name": "stdout",
     "output_type": "stream",
     "text": [
      "<class 'int'>\n"
     ]
    }
   ],
   "source": [
    "x= 6\n",
    "print(type(x))"
   ]
  },
  {
   "cell_type": "code",
   "execution_count": 4,
   "id": "00c09640",
   "metadata": {},
   "outputs": [
    {
     "data": {
      "text/plain": [
       "int"
      ]
     },
     "execution_count": 4,
     "metadata": {},
     "output_type": "execute_result"
    }
   ],
   "source": [
    "type(x)"
   ]
  },
  {
   "cell_type": "code",
   "execution_count": 5,
   "id": "9bc64822",
   "metadata": {},
   "outputs": [
    {
     "name": "stdout",
     "output_type": "stream",
     "text": [
      "<class 'float'>\n"
     ]
    }
   ],
   "source": [
    "y= 4.5\n",
    "print(type(y))"
   ]
  },
  {
   "cell_type": "code",
   "execution_count": 6,
   "id": "309bd3d3",
   "metadata": {},
   "outputs": [
    {
     "data": {
      "text/plain": [
       "float"
      ]
     },
     "execution_count": 6,
     "metadata": {},
     "output_type": "execute_result"
    }
   ],
   "source": [
    "a= 5.0\n",
    "type(a)"
   ]
  },
  {
   "cell_type": "code",
   "execution_count": 7,
   "id": "85d87e41",
   "metadata": {},
   "outputs": [
    {
     "data": {
      "text/plain": [
       "complex"
      ]
     },
     "execution_count": 7,
     "metadata": {},
     "output_type": "execute_result"
    }
   ],
   "source": [
    "b= a+3j\n",
    "type(b)"
   ]
  },
  {
   "cell_type": "code",
   "execution_count": 8,
   "id": "2eab758b",
   "metadata": {},
   "outputs": [
    {
     "data": {
      "text/plain": [
       "int"
      ]
     },
     "execution_count": 8,
     "metadata": {},
     "output_type": "execute_result"
    }
   ],
   "source": [
    "d= 43123409793113473525745512341276341233\n",
    "type(d)"
   ]
  },
  {
   "cell_type": "markdown",
   "id": "87d71fc9",
   "metadata": {},
   "source": [
    "### 2) Strings\n",
    "'Hello' and \"Hello\" are same\n",
    "[] used o access elements of string"
   ]
  },
  {
   "cell_type": "code",
   "execution_count": 10,
   "id": "351747ea",
   "metadata": {},
   "outputs": [
    {
     "data": {
      "text/plain": [
       "'Hello students! Welcome to Henry Harvin.'"
      ]
     },
     "execution_count": 10,
     "metadata": {},
     "output_type": "execute_result"
    }
   ],
   "source": [
    "S1 = \"Hello students! Welcome to Henry Harvin.\"\n",
    "S1"
   ]
  },
  {
   "cell_type": "code",
   "execution_count": 11,
   "id": "d16de779",
   "metadata": {},
   "outputs": [
    {
     "name": "stdout",
     "output_type": "stream",
     "text": [
      "Hello students! Welcome to Henry Harvin.\n"
     ]
    }
   ],
   "source": [
    "print(S1)"
   ]
  },
  {
   "cell_type": "code",
   "execution_count": 12,
   "id": "f499cf17",
   "metadata": {},
   "outputs": [
    {
     "data": {
      "text/plain": [
       "'Henry Harvin is good'"
      ]
     },
     "execution_count": 12,
     "metadata": {},
     "output_type": "execute_result"
    }
   ],
   "source": [
    "S2= 'Henry Harvin is good'\n",
    "S2"
   ]
  },
  {
   "cell_type": "code",
   "execution_count": 16,
   "id": "df50fb61",
   "metadata": {},
   "outputs": [
    {
     "data": {
      "text/plain": [
       "'\\nHenry Harvin\\nis good for\\neducation\\n'"
      ]
     },
     "execution_count": 16,
     "metadata": {},
     "output_type": "execute_result"
    }
   ],
   "source": [
    "# Creation of strings in triple quotes allows multiple lines\n",
    "S3= '''\n",
    "Henry Harvin\n",
    "is good for\n",
    "education\n",
    "'''\n",
    "S3"
   ]
  },
  {
   "cell_type": "code",
   "execution_count": 15,
   "id": "4776b20a",
   "metadata": {},
   "outputs": [
    {
     "name": "stdout",
     "output_type": "stream",
     "text": [
      "Henry Harvin\n",
      "is good for\n",
      "education\n",
      "\n"
     ]
    }
   ],
   "source": [
    "print (S3)"
   ]
  },
  {
   "cell_type": "markdown",
   "id": "8cf39f61",
   "metadata": {},
   "source": [
    "### String indexes (Slicing using Colon)\n",
    "refer- geeksforgeeks.org/python-string/"
   ]
  },
  {
   "cell_type": "code",
   "execution_count": 18,
   "id": "35c4f67e",
   "metadata": {},
   "outputs": [
    {
     "name": "stdout",
     "output_type": "stream",
     "text": [
      "G\n"
     ]
    }
   ],
   "source": [
    "x=\"Geeks for Geeks\"\n",
    "print(x[0])"
   ]
  },
  {
   "cell_type": "code",
   "execution_count": 19,
   "id": "a572d99d",
   "metadata": {},
   "outputs": [
    {
     "data": {
      "text/plain": [
       "'s'"
      ]
     },
     "execution_count": 19,
     "metadata": {},
     "output_type": "execute_result"
    }
   ],
   "source": [
    "x[4]"
   ]
  },
  {
   "cell_type": "code",
   "execution_count": 20,
   "id": "e132c09a",
   "metadata": {},
   "outputs": [
    {
     "name": "stdout",
     "output_type": "stream",
     "text": [
      "s\n"
     ]
    }
   ],
   "source": [
    "print(x[-1])"
   ]
  },
  {
   "cell_type": "code",
   "execution_count": 21,
   "id": "e84e0e28",
   "metadata": {},
   "outputs": [
    {
     "name": "stdout",
     "output_type": "stream",
     "text": [
      "Geeks\n"
     ]
    }
   ],
   "source": [
    "print(x[0:5])"
   ]
  },
  {
   "cell_type": "code",
   "execution_count": 22,
   "id": "4e58baeb",
   "metadata": {},
   "outputs": [
    {
     "name": "stdout",
     "output_type": "stream",
     "text": [
      "for\n"
     ]
    }
   ],
   "source": [
    "print(x[6:-6])"
   ]
  },
  {
   "cell_type": "code",
   "execution_count": 23,
   "id": "a9e43017",
   "metadata": {},
   "outputs": [
    {
     "name": "stdout",
     "output_type": "stream",
     "text": [
      "Geeks for Geeks\n"
     ]
    }
   ],
   "source": [
    "print(x[:])"
   ]
  },
  {
   "cell_type": "code",
   "execution_count": 24,
   "id": "c7d88033",
   "metadata": {},
   "outputs": [
    {
     "data": {
      "text/plain": [
       "'Geeks for Geeks'"
      ]
     },
     "execution_count": 24,
     "metadata": {},
     "output_type": "execute_result"
    }
   ],
   "source": [
    "x[:]"
   ]
  },
  {
   "cell_type": "code",
   "execution_count": 25,
   "id": "91db20c5",
   "metadata": {},
   "outputs": [
    {
     "name": "stdout",
     "output_type": "stream",
     "text": [
      "for Geeks\n"
     ]
    }
   ],
   "source": [
    "print(x[6:])"
   ]
  },
  {
   "cell_type": "markdown",
   "id": "f02c9dd4",
   "metadata": {},
   "source": [
    "### String built-in functions"
   ]
  },
  {
   "cell_type": "code",
   "execution_count": 28,
   "id": "13c73681",
   "metadata": {},
   "outputs": [
    {
     "name": "stdout",
     "output_type": "stream",
     "text": [
      "13\n"
     ]
    }
   ],
   "source": [
    "st1=\"Henry is back\"\n",
    "print(len(st1))"
   ]
  },
  {
   "cell_type": "code",
   "execution_count": 29,
   "id": "2d84fafd",
   "metadata": {},
   "outputs": [
    {
     "name": "stdout",
     "output_type": "stream",
     "text": [
      "henry is back\n"
     ]
    }
   ],
   "source": [
    "print(st1.lower())"
   ]
  },
  {
   "cell_type": "code",
   "execution_count": 30,
   "id": "60c19b6a",
   "metadata": {},
   "outputs": [
    {
     "name": "stdout",
     "output_type": "stream",
     "text": [
      "HENRY IS BACK\n"
     ]
    }
   ],
   "source": [
    "print(st1.upper())"
   ]
  },
  {
   "cell_type": "code",
   "execution_count": 31,
   "id": "80c692a0",
   "metadata": {},
   "outputs": [
    {
     "name": "stdout",
     "output_type": "stream",
     "text": [
      "['Hare', ' Krishna']\n"
     ]
    }
   ],
   "source": [
    "st2=\"Hare, Krishna\"\n",
    "print(st2.split(\",\"))"
   ]
  },
  {
   "cell_type": "code",
   "execution_count": 32,
   "id": "8e0b3e28",
   "metadata": {},
   "outputs": [
    {
     "data": {
      "text/plain": [
       "['Hare', ' Krishna']"
      ]
     },
     "execution_count": 32,
     "metadata": {},
     "output_type": "execute_result"
    }
   ],
   "source": [
    "st2.split(\",\")"
   ]
  },
  {
   "cell_type": "markdown",
   "id": "f22373ad",
   "metadata": {},
   "source": [
    "### Operators"
   ]
  },
  {
   "cell_type": "markdown",
   "id": "9948a76b",
   "metadata": {},
   "source": [
    " Used to perform operations on variables and values.\n",
    " Arithmetic\n",
    " Assignment\n",
    " Comparison\n",
    " Logical\n",
    " Identity\n",
    " Bitwise\n",
    " Membership"
   ]
  },
  {
   "cell_type": "markdown",
   "id": "565d919e",
   "metadata": {},
   "source": [
    "#### Arithmetic Operators"
   ]
  },
  {
   "cell_type": "code",
   "execution_count": null,
   "id": "9a06eb80",
   "metadata": {},
   "outputs": [],
   "source": [
    "used with numeric values to perform common and mathematical operations\n",
    "+\n",
    "-\n",
    "*\n",
    "/\n",
    "% = modulus = returns remainder\n",
    "** = exponentiation = x**y = x to the power of y"
   ]
  },
  {
   "cell_type": "code",
   "execution_count": 33,
   "id": "3fbfc485",
   "metadata": {},
   "outputs": [
    {
     "name": "stdout",
     "output_type": "stream",
     "text": [
      "15\n",
      "-1\n",
      "56\n",
      "0.875\n",
      "7\n",
      "5764801\n"
     ]
    }
   ],
   "source": [
    "x= 7; y= 8; z=4\n",
    "print(x+y)\n",
    "print(x-y)\n",
    "print(x*y)\n",
    "print(x/y)\n",
    "print(x%y)\n",
    "print(x**y)"
   ]
  },
  {
   "cell_type": "markdown",
   "id": "62c7eb1c",
   "metadata": {},
   "source": [
    "#### Comparison Operators"
   ]
  },
  {
   "cell_type": "code",
   "execution_count": null,
   "id": "a25635f1",
   "metadata": {},
   "outputs": [],
   "source": [
    "==   absolutely equal\n",
    "!=   not equal to \n",
    ">\n",
    "<\n",
    ">=\n",
    "<="
   ]
  },
  {
   "cell_type": "code",
   "execution_count": 35,
   "id": "c84dd8cc",
   "metadata": {},
   "outputs": [
    {
     "name": "stdout",
     "output_type": "stream",
     "text": [
      "False\n",
      "True\n",
      "False\n",
      "True\n"
     ]
    }
   ],
   "source": [
    "x=10\n",
    "y= 15\n",
    "print(x>y)\n",
    "print(x<y)\n",
    "print(x==y)\n",
    "print(x!=y)"
   ]
  },
  {
   "cell_type": "markdown",
   "id": "ac58aa2d",
   "metadata": {},
   "source": [
    "#### Logical Operators"
   ]
  },
  {
   "cell_type": "code",
   "execution_count": null,
   "id": "48c841a4",
   "metadata": {},
   "outputs": [],
   "source": [
    "AND = returns True if both statements are True\n",
    "OR  = returns True if one of the statements is True\n",
    "NOT = reverses the statement"
   ]
  },
  {
   "cell_type": "code",
   "execution_count": 37,
   "id": "6adc1797",
   "metadata": {},
   "outputs": [
    {
     "name": "stdout",
     "output_type": "stream",
     "text": [
      "True\n",
      "False\n"
     ]
    }
   ],
   "source": [
    "A= False\n",
    "B= True\n",
    "print(A and B)\n",
    "print(A or B)\n",
    "print(not B)"
   ]
  },
  {
   "cell_type": "code",
   "execution_count": 40,
   "id": "1c3e8d90",
   "metadata": {},
   "outputs": [
    {
     "name": "stdout",
     "output_type": "stream",
     "text": [
      "False\n",
      "False\n"
     ]
    }
   ],
   "source": [
    "print(A and B)\n",
    "(A or B)     #not printed if print command not entered and code occurs in the middle\n",
    "print(not B)"
   ]
  },
  {
   "cell_type": "markdown",
   "id": "cab41637",
   "metadata": {},
   "source": [
    "#### Identity Operators"
   ]
  },
  {
   "cell_type": "code",
   "execution_count": null,
   "id": "b383f824",
   "metadata": {},
   "outputs": [],
   "source": [
    "is = returns True if both objects are same\n",
    "is not = returns True if both variables are not same"
   ]
  },
  {
   "cell_type": "code",
   "execution_count": 63,
   "id": "463b93d9",
   "metadata": {},
   "outputs": [],
   "source": [
    "a= [\"sitar\", \"guitar\"]\n",
    "b= [\"sitar\", \"guitar\"]\n",
    "z= a\n",
    "t=a=b"
   ]
  },
  {
   "cell_type": "code",
   "execution_count": 64,
   "id": "c104e3a6",
   "metadata": {},
   "outputs": [
    {
     "name": "stdout",
     "output_type": "stream",
     "text": [
      "False\n"
     ]
    }
   ],
   "source": [
    "print(a is z)  # z assigned a but a assigned b value"
   ]
  },
  {
   "cell_type": "code",
   "execution_count": 65,
   "id": "f82aa546",
   "metadata": {},
   "outputs": [
    {
     "name": "stdout",
     "output_type": "stream",
     "text": [
      "True\n"
     ]
    }
   ],
   "source": [
    "print(a is b) # a & t assigned b's value"
   ]
  },
  {
   "cell_type": "code",
   "execution_count": 73,
   "id": "25d1e11c",
   "metadata": {},
   "outputs": [
    {
     "name": "stdout",
     "output_type": "stream",
     "text": [
      "True\n"
     ]
    }
   ],
   "source": [
    "print(a==b) # a & b have same values"
   ]
  },
  {
   "cell_type": "code",
   "execution_count": 74,
   "id": "9e872053",
   "metadata": {},
   "outputs": [
    {
     "name": "stdout",
     "output_type": "stream",
     "text": [
      "False\n"
     ]
    }
   ],
   "source": [
    "print(a is not b)"
   ]
  },
  {
   "cell_type": "code",
   "execution_count": 76,
   "id": "61242d38",
   "metadata": {},
   "outputs": [],
   "source": [
    "A= [\"mango\",\"oranges\"]\n",
    "B= [\"mango\", \"oranges\"]\n",
    "Z= A"
   ]
  },
  {
   "cell_type": "code",
   "execution_count": 77,
   "id": "4179f256",
   "metadata": {},
   "outputs": [
    {
     "name": "stdout",
     "output_type": "stream",
     "text": [
      "False\n"
     ]
    }
   ],
   "source": [
    "print(A is B) # A & B allocated different memory locations"
   ]
  },
  {
   "cell_type": "code",
   "execution_count": 78,
   "id": "e5f8a40d",
   "metadata": {},
   "outputs": [
    {
     "name": "stdout",
     "output_type": "stream",
     "text": [
      "True\n"
     ]
    }
   ],
   "source": [
    "print(A is Z) # Z is assigned same location of A"
   ]
  },
  {
   "cell_type": "code",
   "execution_count": 79,
   "id": "a53985bf",
   "metadata": {},
   "outputs": [
    {
     "name": "stdout",
     "output_type": "stream",
     "text": [
      "True\n"
     ]
    }
   ],
   "source": [
    "print(A == B)"
   ]
  },
  {
   "cell_type": "code",
   "execution_count": 80,
   "id": "5054e0f4",
   "metadata": {},
   "outputs": [
    {
     "name": "stdout",
     "output_type": "stream",
     "text": [
      "True\n"
     ]
    }
   ],
   "source": [
    "print(A is not B)"
   ]
  },
  {
   "cell_type": "markdown",
   "id": "a4ec9a53",
   "metadata": {},
   "source": [
    "####  Assignment Operators"
   ]
  },
  {
   "cell_type": "code",
   "execution_count": null,
   "id": "400be902",
   "metadata": {},
   "outputs": [],
   "source": [
    "=\n",
    "+=     x+=3   x=x+3\n",
    "-=     x-=3   x=x-3\n",
    "*=     x*=5   x=x*5\n",
    "/=\n",
    "%=\n",
    "**=\n",
    "&=\n",
    "|=\n",
    ">=     x>=7   x=x>7\n",
    "<="
   ]
  },
  {
   "cell_type": "markdown",
   "id": "e9e4fbe5",
   "metadata": {},
   "source": [
    "#### Membership Operators"
   ]
  },
  {
   "cell_type": "code",
   "execution_count": null,
   "id": "c01b9f23",
   "metadata": {},
   "outputs": [],
   "source": [
    "in = returns true if a sequence with the specified value is present in the object\n",
    "not = returns true if a sequence with the specified value is not present in the object"
   ]
  },
  {
   "cell_type": "code",
   "execution_count": 81,
   "id": "dd6a48ef",
   "metadata": {},
   "outputs": [
    {
     "name": "stdout",
     "output_type": "stream",
     "text": [
      "True\n"
     ]
    }
   ],
   "source": [
    "p= [\"diamond\",\"ruby\"]\n",
    "print(\"ruby\" in p)"
   ]
  },
  {
   "cell_type": "code",
   "execution_count": 83,
   "id": "495c2bc8",
   "metadata": {},
   "outputs": [
    {
     "name": "stdout",
     "output_type": "stream",
     "text": [
      "False\n"
     ]
    }
   ],
   "source": [
    "print (\"coal\" in p)"
   ]
  },
  {
   "cell_type": "code",
   "execution_count": 84,
   "id": "d0e1c086",
   "metadata": {},
   "outputs": [],
   "source": [
    "q= [2,4,6,8,10]"
   ]
  },
  {
   "cell_type": "code",
   "execution_count": 85,
   "id": "e22940d5",
   "metadata": {},
   "outputs": [
    {
     "name": "stdout",
     "output_type": "stream",
     "text": [
      "True\n"
     ]
    }
   ],
   "source": [
    "print(8 in q)"
   ]
  },
  {
   "cell_type": "code",
   "execution_count": 86,
   "id": "fdb43810",
   "metadata": {},
   "outputs": [
    {
     "name": "stdout",
     "output_type": "stream",
     "text": [
      "False\n"
     ]
    }
   ],
   "source": [
    "print(7 in q)"
   ]
  },
  {
   "cell_type": "code",
   "execution_count": null,
   "id": "d8405368",
   "metadata": {},
   "outputs": [],
   "source": []
  }
 ],
 "metadata": {
  "kernelspec": {
   "display_name": "Python 3 (ipykernel)",
   "language": "python",
   "name": "python3"
  },
  "language_info": {
   "codemirror_mode": {
    "name": "ipython",
    "version": 3
   },
   "file_extension": ".py",
   "mimetype": "text/x-python",
   "name": "python",
   "nbconvert_exporter": "python",
   "pygments_lexer": "ipython3",
   "version": "3.10.9"
  }
 },
 "nbformat": 4,
 "nbformat_minor": 5
}

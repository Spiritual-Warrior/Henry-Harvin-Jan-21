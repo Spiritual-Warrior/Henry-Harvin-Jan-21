{
 "cells": [
  {
   "cell_type": "markdown",
   "id": "0a5c5e95",
   "metadata": {},
   "source": [
    "# Taking input from user"
   ]
  },
  {
   "cell_type": "markdown",
   "id": "e657e20e",
   "metadata": {},
   "source": [
    "e.g.- atm machine,"
   ]
  },
  {
   "cell_type": "code",
   "execution_count": 1,
   "id": "1ebe680d",
   "metadata": {},
   "outputs": [
    {
     "name": "stdout",
     "output_type": "stream",
     "text": [
      "Enter number :40\n",
      "40\n"
     ]
    }
   ],
   "source": [
    "n= input(\"Enter number :\"); print(n)"
   ]
  },
  {
   "cell_type": "code",
   "execution_count": 2,
   "id": "51d16e23",
   "metadata": {},
   "outputs": [
    {
     "data": {
      "text/plain": [
       "'40'"
      ]
     },
     "execution_count": 2,
     "metadata": {},
     "output_type": "execute_result"
    }
   ],
   "source": [
    "n"
   ]
  },
  {
   "cell_type": "code",
   "execution_count": 3,
   "id": "032207f7",
   "metadata": {},
   "outputs": [
    {
     "name": "stdout",
     "output_type": "stream",
     "text": [
      "40\n"
     ]
    }
   ],
   "source": [
    "print(n)"
   ]
  },
  {
   "cell_type": "code",
   "execution_count": 6,
   "id": "cd8818e6",
   "metadata": {},
   "outputs": [
    {
     "name": "stdout",
     "output_type": "stream",
     "text": [
      "Enter name :Mayank\n",
      "Mayank\n"
     ]
    }
   ],
   "source": [
    "name= input(\"Enter name :\")\n",
    "print(name)"
   ]
  },
  {
   "cell_type": "code",
   "execution_count": 7,
   "id": "0978b178",
   "metadata": {},
   "outputs": [
    {
     "name": "stdout",
     "output_type": "stream",
     "text": [
      "<class 'str'>\n"
     ]
    }
   ],
   "source": [
    "print(type(n))"
   ]
  },
  {
   "cell_type": "code",
   "execution_count": 8,
   "id": "814a249f",
   "metadata": {},
   "outputs": [
    {
     "name": "stdout",
     "output_type": "stream",
     "text": [
      "<class 'str'>\n"
     ]
    }
   ],
   "source": [
    "print(type(name))"
   ]
  },
  {
   "cell_type": "code",
   "execution_count": 9,
   "id": "54069667",
   "metadata": {},
   "outputs": [
    {
     "name": "stdout",
     "output_type": "stream",
     "text": [
      "Enter number:42\n",
      "42.0\n"
     ]
    }
   ],
   "source": [
    "num= float(input(\"Enter number:\"));print(num)"
   ]
  },
  {
   "cell_type": "code",
   "execution_count": 10,
   "id": "40d0375d",
   "metadata": {},
   "outputs": [
    {
     "name": "stdout",
     "output_type": "stream",
     "text": [
      "<class 'float'>\n"
     ]
    }
   ],
   "source": [
    "print(type(num))"
   ]
  },
  {
   "cell_type": "markdown",
   "id": "99f9098d",
   "metadata": {},
   "source": [
    "# If, Elif and Else statements"
   ]
  },
  {
   "cell_type": "markdown",
   "id": "a68a003a",
   "metadata": {},
   "source": [
    "If statement is a decision making statement. It will run the body of code only when IF statement is True"
   ]
  },
  {
   "cell_type": "code",
   "execution_count": 12,
   "id": "b2214510",
   "metadata": {},
   "outputs": [
    {
     "name": "stdout",
     "output_type": "stream",
     "text": [
      "x is greater than y\n"
     ]
    }
   ],
   "source": [
    "x=59\n",
    "y=34\n",
    "\n",
    "if x>y:\n",
    "    print(\"x is greater than y\")\n",
    "elif x==y:\n",
    "    print(\"x is equal to y\")\n",
    "else:\n",
    "    print(\"y is greater than x\")"
   ]
  },
  {
   "cell_type": "markdown",
   "id": "ca7ab86f",
   "metadata": {},
   "source": [
    "# Loops in Python"
   ]
  },
  {
   "cell_type": "markdown",
   "id": "df431e00",
   "metadata": {},
   "source": [
    "WHILE loop can execute statements as long as the condition is true\n",
    "FOR loop can execute a set of statements, once for each item in a list, tuple..."
   ]
  },
  {
   "cell_type": "markdown",
   "id": "9c24c23d",
   "metadata": {},
   "source": [
    "# While Loop"
   ]
  },
  {
   "cell_type": "code",
   "execution_count": 15,
   "id": "855ffcc7",
   "metadata": {},
   "outputs": [
    {
     "name": "stdout",
     "output_type": "stream",
     "text": [
      "1\n",
      "2\n",
      "3\n",
      "4\n",
      "5\n",
      "6\n",
      "7\n",
      "8\n",
      "9\n"
     ]
    }
   ],
   "source": [
    "i=1\n",
    "while i<10:\n",
    "    print(i)\n",
    "    i+=1     # i=i+1 ;     Simple while loop"
   ]
  },
  {
   "cell_type": "code",
   "execution_count": 17,
   "id": "91bd5132",
   "metadata": {},
   "outputs": [
    {
     "name": "stdout",
     "output_type": "stream",
     "text": [
      "2\n",
      "3\n",
      "4\n",
      "5\n",
      "6\n",
      "7\n"
     ]
    }
   ],
   "source": [
    "x=2\n",
    "while x<10:\n",
    "    print(x)\n",
    "    if (x==7):\n",
    "        break\n",
    "    x+=1    # while loop with a break statement"
   ]
  },
  {
   "cell_type": "code",
   "execution_count": 19,
   "id": "65eced71",
   "metadata": {},
   "outputs": [
    {
     "name": "stdout",
     "output_type": "stream",
     "text": [
      "2\n",
      "4\n",
      "8\n"
     ]
    }
   ],
   "source": [
    "y=0\n",
    "while y<7:\n",
    "    y+=2\n",
    "    if y==6:\n",
    "        continue   # skips 6\n",
    "    print(y)"
   ]
  },
  {
   "cell_type": "markdown",
   "id": "18db0206",
   "metadata": {},
   "source": [
    "# For loop"
   ]
  },
  {
   "cell_type": "code",
   "execution_count": 22,
   "id": "be23e943",
   "metadata": {},
   "outputs": [
    {
     "name": "stdout",
     "output_type": "stream",
     "text": [
      "1\n",
      "2\n",
      "3\n",
      "4\n",
      "5\n"
     ]
    }
   ],
   "source": [
    "list= [1,2,3,4,5]\n",
    "for y in list:\n",
    "    print(y)              # prints all elements"
   ]
  },
  {
   "cell_type": "code",
   "execution_count": 23,
   "id": "65a1e929",
   "metadata": {},
   "outputs": [
    {
     "name": "stdout",
     "output_type": "stream",
     "text": [
      "a\n",
      "p\n",
      "p\n",
      "l\n",
      "e\n"
     ]
    }
   ],
   "source": [
    "for a in 'apple':\n",
    "    print(a)                # prints all elements"
   ]
  },
  {
   "cell_type": "code",
   "execution_count": 24,
   "id": "6debc57d",
   "metadata": {},
   "outputs": [
    {
     "name": "stdout",
     "output_type": "stream",
     "text": [
      "gajar\n",
      "aloo\n",
      "dhaniya\n"
     ]
    }
   ],
   "source": [
    "veg=[\"gajar\",\"aloo\",\"dhaniya\"]\n",
    "for a in veg:\n",
    "    print(a)\n"
   ]
  },
  {
   "cell_type": "code",
   "execution_count": 26,
   "id": "51d82c8f",
   "metadata": {},
   "outputs": [
    {
     "name": "stdout",
     "output_type": "stream",
     "text": [
      "0\n",
      "1\n",
      "2\n",
      "3\n",
      "4\n"
     ]
    }
   ],
   "source": [
    "for x in range(5):\n",
    "    print(x)"
   ]
  },
  {
   "cell_type": "markdown",
   "id": "9bb4ee2a",
   "metadata": {},
   "source": [
    "# Python Collections (Arrays)"
   ]
  },
  {
   "cell_type": "code",
   "execution_count": null,
   "id": "33d17433",
   "metadata": {},
   "outputs": [],
   "source": [
    "List is a collection which is ordered, changeable, allows duplicates, values inside [ ]\n",
    "Tuple is a collection which is ordered, unchangeable (immutable), allows duplicates, values inside ( )\n",
    "Set which is unordered (any number of random values printed in unorganised manner), unindexed, no duplicates, values inside { }\n",
    "Dictionary is unordered, changeable, indexed (using key:value pair), no duplicates, {K1:V1, K2:V2, K3:V3 ......}"
   ]
  },
  {
   "cell_type": "markdown",
   "id": "cdcc8529",
   "metadata": {},
   "source": [
    "## List"
   ]
  },
  {
   "cell_type": "code",
   "execution_count": 27,
   "id": "9dd3a0b1",
   "metadata": {},
   "outputs": [
    {
     "name": "stdout",
     "output_type": "stream",
     "text": [
      "['apple', 'mango', 'orange', 'strawberry']\n"
     ]
    }
   ],
   "source": [
    "fruits=[\"apple\", \"mango\", \"orange\", \"strawberry\"]     # create list\n",
    "print(fruits)"
   ]
  },
  {
   "cell_type": "code",
   "execution_count": 28,
   "id": "4c6c8a2d",
   "metadata": {},
   "outputs": [
    {
     "name": "stdout",
     "output_type": "stream",
     "text": [
      "orange\n"
     ]
    }
   ],
   "source": [
    "print(fruits[2])    #access items"
   ]
  },
  {
   "cell_type": "code",
   "execution_count": 29,
   "id": "ba1a79df",
   "metadata": {},
   "outputs": [
    {
     "name": "stdout",
     "output_type": "stream",
     "text": [
      "apple\n",
      "mango\n",
      "orange\n",
      "strawberry\n"
     ]
    }
   ],
   "source": [
    "for x in fruits:\n",
    "    print(x)"
   ]
  },
  {
   "cell_type": "code",
   "execution_count": 30,
   "id": "7020590b",
   "metadata": {},
   "outputs": [
    {
     "name": "stdout",
     "output_type": "stream",
     "text": [
      "kiwi is not present in the created list\n"
     ]
    }
   ],
   "source": [
    "if 'kiwi' in fruits:\n",
    "    print(\"kiwi is present in the created list\")\n",
    "else:\n",
    "    print(\"kiwi is not present in the created list\")"
   ]
  },
  {
   "cell_type": "code",
   "execution_count": 31,
   "id": "63fe9a0c",
   "metadata": {},
   "outputs": [
    {
     "name": "stdout",
     "output_type": "stream",
     "text": [
      "['apple', 'mango', 'orange', 'strawberry', 'pineapple']\n"
     ]
    }
   ],
   "source": [
    "fruits.append(\"pineapple\"); print(fruits)    # adds pineapple in the list"
   ]
  },
  {
   "cell_type": "code",
   "execution_count": 34,
   "id": "2d001f71",
   "metadata": {},
   "outputs": [
    {
     "name": "stdout",
     "output_type": "stream",
     "text": [
      "['apple', 'mango', 'banana', 'banana', 'banana', 'orange', 'strawberry', 'pineapple']\n"
     ]
    }
   ],
   "source": [
    "fruits.insert(2, \"banana\")    # adds banana at location/index 2 of the list\n",
    "print(fruits)"
   ]
  },
  {
   "cell_type": "code",
   "execution_count": 35,
   "id": "14867cdc",
   "metadata": {},
   "outputs": [
    {
     "name": "stdout",
     "output_type": "stream",
     "text": [
      "['apple', 'mango', 'banana', 'banana', 'orange', 'strawberry', 'pineapple']\n"
     ]
    }
   ],
   "source": [
    "fruits.remove(\"banana\"); print(fruits)    # removes 1 banana entry from the list"
   ]
  },
  {
   "cell_type": "code",
   "execution_count": 36,
   "id": "f8d88a8f",
   "metadata": {},
   "outputs": [
    {
     "name": "stdout",
     "output_type": "stream",
     "text": [
      "['apple', 'mango', 'banana', 'banana', 'orange', 'strawberry']\n"
     ]
    }
   ],
   "source": [
    "fruits.pop();print(fruits)     # last element removed"
   ]
  },
  {
   "cell_type": "code",
   "execution_count": 37,
   "id": "01c4a290",
   "metadata": {},
   "outputs": [
    {
     "name": "stdout",
     "output_type": "stream",
     "text": [
      "['mango', 'banana', 'banana', 'orange', 'strawberry']\n"
     ]
    }
   ],
   "source": [
    "del fruits[0]; print(fruits)    #specified element got removed"
   ]
  },
  {
   "cell_type": "code",
   "execution_count": null,
   "id": "51e1c5a7",
   "metadata": {},
   "outputs": [],
   "source": [
    "Some more functions in LIST are as follows:-\n",
    "append()-\n",
    "clear()- clears all the elements of the list\n",
    "copy()- makes a copy of the specified list\n",
    "count()- returns the no. of elements\n",
    "index()\n",
    "insert()-\n",
    "pop()-\n",
    "remove()- removes the item from specified list\n",
    "sort()- sorts the elements of the list\n",
    "reverse()- reverse the order of the list"
   ]
  },
  {
   "cell_type": "markdown",
   "id": "ea7f52fe",
   "metadata": {},
   "source": [
    "## Tuple"
   ]
  },
  {
   "cell_type": "code",
   "execution_count": 39,
   "id": "40d4ec3d",
   "metadata": {},
   "outputs": [
    {
     "name": "stdout",
     "output_type": "stream",
     "text": [
      "('apple', 'mango', 'cherry', 'banana')\n"
     ]
    }
   ],
   "source": [
    "fruit_tuple=(\"apple\", \"mango\", \"cherry\", \"banana\")\n",
    "print(fruit_tuple)"
   ]
  },
  {
   "cell_type": "code",
   "execution_count": 40,
   "id": "08612c5c",
   "metadata": {},
   "outputs": [
    {
     "name": "stdout",
     "output_type": "stream",
     "text": [
      "cherry\n"
     ]
    }
   ],
   "source": [
    "print(fruit_tuple[2])"
   ]
  },
  {
   "cell_type": "code",
   "execution_count": 41,
   "id": "4c030a83",
   "metadata": {},
   "outputs": [
    {
     "name": "stdout",
     "output_type": "stream",
     "text": [
      "4\n"
     ]
    }
   ],
   "source": [
    "print(len(fruit_tuple))"
   ]
  },
  {
   "cell_type": "code",
   "execution_count": 42,
   "id": "683339ef",
   "metadata": {},
   "outputs": [
    {
     "name": "stdout",
     "output_type": "stream",
     "text": [
      "mango is present\n"
     ]
    }
   ],
   "source": [
    "if \"mango\" in fruit_tuple:\n",
    "    print(\"mango is present\")\n",
    "else:\n",
    "    print(\"mango isn't present\")"
   ]
  },
  {
   "cell_type": "code",
   "execution_count": 43,
   "id": "9758b343",
   "metadata": {},
   "outputs": [
    {
     "name": "stdout",
     "output_type": "stream",
     "text": [
      "3\n"
     ]
    }
   ],
   "source": [
    "fruit_tuple= (\"apple\", \"mango\", \"mango\", \"mango\", \"banana\", \"cherry\")\n",
    "print(fruit_tuple.count(\"mango\"))"
   ]
  },
  {
   "cell_type": "code",
   "execution_count": 44,
   "id": "08f39a4f",
   "metadata": {},
   "outputs": [
    {
     "name": "stdout",
     "output_type": "stream",
     "text": [
      "1\n"
     ]
    }
   ],
   "source": [
    "print(fruit_tuple.index(\"mango\"))    # return index of first mango"
   ]
  },
  {
   "cell_type": "code",
   "execution_count": 46,
   "id": "3b512850",
   "metadata": {},
   "outputs": [
    {
     "name": "stdout",
     "output_type": "stream",
     "text": [
      "mango\n",
      "mango\n",
      "mango\n",
      "banana\n",
      "cherry\n"
     ]
    }
   ],
   "source": [
    "for x in fruit_tuple:\n",
    "    if x==\"apple\":\n",
    "        continue\n",
    "    print(x)"
   ]
  },
  {
   "cell_type": "code",
   "execution_count": 47,
   "id": "1e370202",
   "metadata": {},
   "outputs": [
    {
     "ename": "TypeError",
     "evalue": "'tuple' object does not support item assignment",
     "output_type": "error",
     "traceback": [
      "\u001b[1;31m---------------------------------------------------------------------------\u001b[0m",
      "\u001b[1;31mTypeError\u001b[0m                                 Traceback (most recent call last)",
      "Cell \u001b[1;32mIn[47], line 1\u001b[0m\n\u001b[1;32m----> 1\u001b[0m fruit_tuple[\u001b[38;5;241m1\u001b[39m]\u001b[38;5;241m=\u001b[39m\u001b[38;5;124m\"\u001b[39m\u001b[38;5;124mcarrot\u001b[39m\u001b[38;5;124m\"\u001b[39m\n",
      "\u001b[1;31mTypeError\u001b[0m: 'tuple' object does not support item assignment"
     ]
    }
   ],
   "source": [
    "fruit_tuple[1]=\"carrot\"    # tuple doesn't support replacement or assignment"
   ]
  },
  {
   "cell_type": "code",
   "execution_count": 48,
   "id": "681eb521",
   "metadata": {},
   "outputs": [],
   "source": [
    "del fruit_tuple"
   ]
  },
  {
   "cell_type": "code",
   "execution_count": 49,
   "id": "d37fc53e",
   "metadata": {},
   "outputs": [
    {
     "ename": "NameError",
     "evalue": "name 'fruit_tuple' is not defined",
     "output_type": "error",
     "traceback": [
      "\u001b[1;31m---------------------------------------------------------------------------\u001b[0m",
      "\u001b[1;31mNameError\u001b[0m                                 Traceback (most recent call last)",
      "Cell \u001b[1;32mIn[49], line 1\u001b[0m\n\u001b[1;32m----> 1\u001b[0m \u001b[38;5;28mprint\u001b[39m(\u001b[43mfruit_tuple\u001b[49m)\n",
      "\u001b[1;31mNameError\u001b[0m: name 'fruit_tuple' is not defined"
     ]
    }
   ],
   "source": [
    "print(fruit_tuple)     # fruit_tuple no longer exist"
   ]
  },
  {
   "cell_type": "markdown",
   "id": "558f2d3c",
   "metadata": {},
   "source": [
    "## Set"
   ]
  },
  {
   "cell_type": "code",
   "execution_count": 55,
   "id": "cf49393d",
   "metadata": {},
   "outputs": [
    {
     "name": "stdout",
     "output_type": "stream",
     "text": [
      "{'strawberry', 'apple', 'mango', 'kiwi', 'orange'}\n"
     ]
    }
   ],
   "source": [
    "fala= {\"apple\", \"kiwi\", \"strawberry\", \"mango\", \"orange\"}\n",
    "print(fala)"
   ]
  },
  {
   "cell_type": "code",
   "execution_count": 54,
   "id": "462ecb7a",
   "metadata": {},
   "outputs": [
    {
     "name": "stdout",
     "output_type": "stream",
     "text": [
      "strawberry\n",
      "apple\n",
      "mango\n",
      "kiwi\n",
      "orange\n"
     ]
    }
   ],
   "source": [
    "for x in fala:\n",
    "    print(x)"
   ]
  },
  {
   "cell_type": "code",
   "execution_count": 56,
   "id": "ac9bc659",
   "metadata": {},
   "outputs": [
    {
     "name": "stdout",
     "output_type": "stream",
     "text": [
      "True\n"
     ]
    }
   ],
   "source": [
    "print(\"strawberry\" in fala)"
   ]
  },
  {
   "cell_type": "code",
   "execution_count": 57,
   "id": "24dc3bc1",
   "metadata": {},
   "outputs": [
    {
     "name": "stdout",
     "output_type": "stream",
     "text": [
      "{'strawberry', 'apple', 'mango', 'kiwi', 'banana', 'orange'}\n"
     ]
    }
   ],
   "source": [
    "fala.add(\"banana\");       # 'add' is used to add an element. Set is unordered and unindexed, hence element may not get added in the end.\n",
    "print(fala)"
   ]
  },
  {
   "cell_type": "code",
   "execution_count": 58,
   "id": "4ebb1a8e",
   "metadata": {},
   "outputs": [
    {
     "name": "stdout",
     "output_type": "stream",
     "text": [
      "6\n"
     ]
    }
   ],
   "source": [
    "print(len(fala))"
   ]
  },
  {
   "cell_type": "code",
   "execution_count": 59,
   "id": "3407b299",
   "metadata": {},
   "outputs": [],
   "source": [
    "fala.remove(\"kiwi\")"
   ]
  },
  {
   "cell_type": "code",
   "execution_count": 60,
   "id": "9513e48a",
   "metadata": {},
   "outputs": [
    {
     "name": "stdout",
     "output_type": "stream",
     "text": [
      "{'strawberry', 'apple', 'mango', 'banana', 'orange'}\n"
     ]
    }
   ],
   "source": [
    "print(fala)"
   ]
  },
  {
   "cell_type": "code",
   "execution_count": 61,
   "id": "943b3cc2",
   "metadata": {},
   "outputs": [
    {
     "name": "stdout",
     "output_type": "stream",
     "text": [
      "{'apple', 'mango', 'banana', 'orange'}\n"
     ]
    }
   ],
   "source": [
    "fala.pop(); print(fala)"
   ]
  },
  {
   "cell_type": "code",
   "execution_count": 62,
   "id": "5021612c",
   "metadata": {},
   "outputs": [
    {
     "ename": "NameError",
     "evalue": "name 'fala' is not defined",
     "output_type": "error",
     "traceback": [
      "\u001b[1;31m---------------------------------------------------------------------------\u001b[0m",
      "\u001b[1;31mNameError\u001b[0m                                 Traceback (most recent call last)",
      "Cell \u001b[1;32mIn[62], line 1\u001b[0m\n\u001b[1;32m----> 1\u001b[0m \u001b[38;5;28;01mdel\u001b[39;00m fala; \u001b[38;5;28mprint\u001b[39m(\u001b[43mfala\u001b[49m)\n",
      "\u001b[1;31mNameError\u001b[0m: name 'fala' is not defined"
     ]
    }
   ],
   "source": [
    "del fala; print(fala)"
   ]
  },
  {
   "cell_type": "code",
   "execution_count": 63,
   "id": "6c54103f",
   "metadata": {},
   "outputs": [],
   "source": [
    "fala= {\"apple\", \"mango\", \"orange\"}\n",
    "device= {\"google\", \"microsoft\", \"apple\"}"
   ]
  },
  {
   "cell_type": "code",
   "execution_count": 64,
   "id": "2f771db3",
   "metadata": {},
   "outputs": [
    {
     "name": "stdout",
     "output_type": "stream",
     "text": [
      "{'google', 'apple', 'mango', 'orange', 'microsoft'}\n"
     ]
    }
   ],
   "source": [
    "print(fala.union(device))"
   ]
  },
  {
   "cell_type": "code",
   "execution_count": 65,
   "id": "c1beecb2",
   "metadata": {},
   "outputs": [
    {
     "name": "stdout",
     "output_type": "stream",
     "text": [
      "{'apple'}\n"
     ]
    }
   ],
   "source": [
    "print(fala.intersection(device))"
   ]
  },
  {
   "cell_type": "code",
   "execution_count": 66,
   "id": "90ffef1d",
   "metadata": {},
   "outputs": [
    {
     "name": "stdout",
     "output_type": "stream",
     "text": [
      "False\n"
     ]
    }
   ],
   "source": [
    "print(fala.issubset(device))"
   ]
  },
  {
   "cell_type": "code",
   "execution_count": 67,
   "id": "e5e980ca",
   "metadata": {},
   "outputs": [
    {
     "name": "stdout",
     "output_type": "stream",
     "text": [
      "False\n"
     ]
    }
   ],
   "source": [
    "print(fala.issuperset(device))"
   ]
  },
  {
   "cell_type": "markdown",
   "id": "b393e2f3",
   "metadata": {},
   "source": [
    "## Dictionary"
   ]
  },
  {
   "cell_type": "code",
   "execution_count": 69,
   "id": "83b5036c",
   "metadata": {},
   "outputs": [
    {
     "name": "stdout",
     "output_type": "stream",
     "text": [
      "{'brand': 'maruti', 'model': 'desire', 'year': 2018}\n"
     ]
    }
   ],
   "source": [
    "dic= {\n",
    "    \"brand\":\"maruti\",\n",
    "    \"model\":\"desire\",\n",
    "    \"year\": 2018\n",
    "}\n",
    "print(dic)"
   ]
  },
  {
   "cell_type": "code",
   "execution_count": 70,
   "id": "80f6d5b6",
   "metadata": {},
   "outputs": [
    {
     "name": "stdout",
     "output_type": "stream",
     "text": [
      "dict_values(['maruti', 'desire', 2018])\n"
     ]
    }
   ],
   "source": [
    "print(dic.values())"
   ]
  },
  {
   "cell_type": "code",
   "execution_count": 71,
   "id": "c9598f9f",
   "metadata": {},
   "outputs": [
    {
     "name": "stdout",
     "output_type": "stream",
     "text": [
      "dict_keys(['brand', 'model', 'year'])\n"
     ]
    }
   ],
   "source": [
    "print(dic.keys())"
   ]
  },
  {
   "cell_type": "code",
   "execution_count": 72,
   "id": "ec51c24b",
   "metadata": {},
   "outputs": [
    {
     "name": "stdout",
     "output_type": "stream",
     "text": [
      "maruti\n",
      "desire\n",
      "2018\n"
     ]
    }
   ],
   "source": [
    "for x in dic:\n",
    "    print(dic[x])"
   ]
  },
  {
   "cell_type": "code",
   "execution_count": 73,
   "id": "4686569c",
   "metadata": {},
   "outputs": [
    {
     "name": "stdout",
     "output_type": "stream",
     "text": [
      "brand maruti\n",
      "model desire\n",
      "year 2018\n"
     ]
    }
   ],
   "source": [
    "for x,y in dic.items():\n",
    "    print(x,y)"
   ]
  },
  {
   "cell_type": "code",
   "execution_count": 74,
   "id": "41e0f1cb",
   "metadata": {},
   "outputs": [
    {
     "name": "stdout",
     "output_type": "stream",
     "text": [
      "3\n"
     ]
    }
   ],
   "source": [
    "print(len(dic))"
   ]
  },
  {
   "cell_type": "code",
   "execution_count": 75,
   "id": "23dd0c14",
   "metadata": {},
   "outputs": [
    {
     "name": "stdout",
     "output_type": "stream",
     "text": [
      "{'brand': 'maruti', 'model': 'desire', 'year': 2018, 'color': 'white'}\n"
     ]
    }
   ],
   "source": [
    "dic[\"color\"]=\"white\"; print(dic)"
   ]
  },
  {
   "cell_type": "code",
   "execution_count": 76,
   "id": "a1fc171e",
   "metadata": {},
   "outputs": [
    {
     "name": "stdout",
     "output_type": "stream",
     "text": [
      "{'brand': 'maruti', 'model': 'desire', 'color': 'white'}\n"
     ]
    }
   ],
   "source": [
    "dic.pop('year'); print(dic)"
   ]
  },
  {
   "cell_type": "code",
   "execution_count": 77,
   "id": "eea5d532",
   "metadata": {},
   "outputs": [
    {
     "name": "stdout",
     "output_type": "stream",
     "text": [
      "{'brand': 'maruti', 'model': 'desire'}\n"
     ]
    }
   ],
   "source": [
    "dic.popitem(); print(dic)"
   ]
  },
  {
   "cell_type": "code",
   "execution_count": 78,
   "id": "81967561",
   "metadata": {},
   "outputs": [
    {
     "name": "stdout",
     "output_type": "stream",
     "text": [
      "{'model': 'desire'}\n"
     ]
    }
   ],
   "source": [
    "del dic[\"brand\"]; print(dic)"
   ]
  },
  {
   "cell_type": "code",
   "execution_count": 79,
   "id": "2752f6e0",
   "metadata": {},
   "outputs": [
    {
     "ename": "NameError",
     "evalue": "name 'dic' is not defined",
     "output_type": "error",
     "traceback": [
      "\u001b[1;31m---------------------------------------------------------------------------\u001b[0m",
      "\u001b[1;31mNameError\u001b[0m                                 Traceback (most recent call last)",
      "Cell \u001b[1;32mIn[79], line 1\u001b[0m\n\u001b[1;32m----> 1\u001b[0m \u001b[38;5;28;01mdel\u001b[39;00m dic; \u001b[38;5;28mprint\u001b[39m(\u001b[43mdic\u001b[49m)\n",
      "\u001b[1;31mNameError\u001b[0m: name 'dic' is not defined"
     ]
    }
   ],
   "source": [
    "del dic; print(dic)"
   ]
  },
  {
   "cell_type": "markdown",
   "id": "94dfd656",
   "metadata": {},
   "source": [
    "# File Handling in Python"
   ]
  },
  {
   "cell_type": "code",
   "execution_count": null,
   "id": "a0341169",
   "metadata": {},
   "outputs": [],
   "source": [
    "\"r\" - read= open a file for reading, error if the file does not exist\n",
    "\"a\" - append= opens a file for appending, creates the file if it does not exist\n",
    "\"w\" - write= opens a file for writing, creates the file it does not exist\n",
    "\"x\" - create= creates the specified file, returns an error if the file exists"
   ]
  },
  {
   "cell_type": "code",
   "execution_count": 88,
   "id": "5e7f4599",
   "metadata": {},
   "outputs": [
    {
     "name": "stdout",
     "output_type": "stream",
     "text": [
      "It is my first text document.\n"
     ]
    }
   ],
   "source": [
    "file= open(\"C://Users//student//Downloads//hare krishna//new_document.txt\", \"x\")\n",
    "file.write(\"It is my first text document.\")\n",
    "file.close()\n",
    "file= open(\"C://Users//student//Downloads//hare krishna//new_document.txt\")\n",
    "print(file.read())\n",
    "file.close()"
   ]
  },
  {
   "cell_type": "code",
   "execution_count": 83,
   "id": "fedfc01c",
   "metadata": {},
   "outputs": [
    {
     "ename": "UnsupportedOperation",
     "evalue": "not readable",
     "output_type": "error",
     "traceback": [
      "\u001b[1;31m---------------------------------------------------------------------------\u001b[0m",
      "\u001b[1;31mUnsupportedOperation\u001b[0m                      Traceback (most recent call last)",
      "Cell \u001b[1;32mIn[83], line 3\u001b[0m\n\u001b[0;32m      1\u001b[0m file\u001b[38;5;241m=\u001b[39m \u001b[38;5;28mopen\u001b[39m(\u001b[38;5;124m\"\u001b[39m\u001b[38;5;124mC://Users//student//Downloads//hare krishna//new_document.txt\u001b[39m\u001b[38;5;124m\"\u001b[39m,\u001b[38;5;124m\"\u001b[39m\u001b[38;5;124mw\u001b[39m\u001b[38;5;124m\"\u001b[39m)\n\u001b[0;32m      2\u001b[0m file\u001b[38;5;241m.\u001b[39mwrite(\u001b[38;5;124m\"\u001b[39m\u001b[38;5;124mWriting again in this text document\u001b[39m\u001b[38;5;124m\"\u001b[39m)\n\u001b[1;32m----> 3\u001b[0m \u001b[38;5;28mprint\u001b[39m(\u001b[43mfile\u001b[49m\u001b[38;5;241;43m.\u001b[39;49m\u001b[43mread\u001b[49m\u001b[43m(\u001b[49m\u001b[43m)\u001b[49m)\n\u001b[0;32m      4\u001b[0m file\u001b[38;5;241m.\u001b[39mclose()\n",
      "\u001b[1;31mUnsupportedOperation\u001b[0m: not readable"
     ]
    }
   ],
   "source": [
    "file= open(\"C://Users//student//Downloads//hare krishna//new_document.txt\",\"w\")\n",
    "file.write(\"Writing again in this text document.\")\n",
    "print(file.read())\n",
    "file.close()"
   ]
  },
  {
   "cell_type": "code",
   "execution_count": 89,
   "id": "c8ac93a4",
   "metadata": {},
   "outputs": [
    {
     "name": "stdout",
     "output_type": "stream",
     "text": [
      "It is my first text document.Writing again in this text document.\n"
     ]
    }
   ],
   "source": [
    "file= open(\"C://Users//student//Downloads//hare krishna//new_document.txt\",\"a\")\n",
    "file.write(\"Writing again in this text document.\")\n",
    "file.close()\n",
    "file= open(\"C://Users//student//Downloads//hare krishna//new_document.txt\")\n",
    "print(file.read())\n",
    "file.close()"
   ]
  },
  {
   "cell_type": "code",
   "execution_count": null,
   "id": "7332c9b9",
   "metadata": {},
   "outputs": [],
   "source": [
    "## \"a\" adds new content but \"w\" overrides new content"
   ]
  },
  {
   "cell_type": "code",
   "execution_count": 90,
   "id": "580fa4ee",
   "metadata": {},
   "outputs": [
    {
     "name": "stdout",
     "output_type": "stream",
     "text": [
      "It is my first text document.Writing again in this text document.Adding some more content\n"
     ]
    }
   ],
   "source": [
    "file= open(\"C://Users//student//Downloads//hare krishna//new_document.txt\",\"a\")\n",
    "file.write(\"Adding some more content\")\n",
    "file.close()\n",
    "file= open(\"C://Users//student//Downloads//hare krishna//new_document.txt\")\n",
    "print(file.read())\n",
    "file.close()"
   ]
  },
  {
   "cell_type": "code",
   "execution_count": 99,
   "id": "ad379c81",
   "metadata": {},
   "outputs": [
    {
     "ename": "TypeError",
     "evalue": "TextIOWrapper.write() takes exactly one argument (2 given)",
     "output_type": "error",
     "traceback": [
      "\u001b[1;31m---------------------------------------------------------------------------\u001b[0m",
      "\u001b[1;31mTypeError\u001b[0m                                 Traceback (most recent call last)",
      "Cell \u001b[1;32mIn[99], line 2\u001b[0m\n\u001b[0;32m      1\u001b[0m file\u001b[38;5;241m=\u001b[39m \u001b[38;5;28mopen\u001b[39m(\u001b[38;5;124m\"\u001b[39m\u001b[38;5;124mC://Users//student//Downloads//hare krishna//new_document.txt\u001b[39m\u001b[38;5;124m\"\u001b[39m,\u001b[38;5;124m\"\u001b[39m\u001b[38;5;124ma\u001b[39m\u001b[38;5;124m\"\u001b[39m)\n\u001b[1;32m----> 2\u001b[0m \u001b[43mfile\u001b[49m\u001b[38;5;241;43m.\u001b[39;49m\u001b[43mwrite\u001b[49m\u001b[43m(\u001b[49m\u001b[38;5;124;43m\"\u001b[39;49m\u001b[38;5;124;43mAdding content to new line\u001b[39;49m\u001b[38;5;124;43m\"\u001b[39;49m\u001b[43m,\u001b[49m\u001b[43m \u001b[49m\u001b[38;5;124;43m\"\u001b[39;49m\u001b[38;5;124;43m/n\u001b[39;49m\u001b[38;5;124;43m\"\u001b[39;49m\u001b[43m)\u001b[49m\n\u001b[0;32m      3\u001b[0m file\u001b[38;5;241m.\u001b[39mclose()\n\u001b[0;32m      4\u001b[0m file\u001b[38;5;241m=\u001b[39m \u001b[38;5;28mopen\u001b[39m(\u001b[38;5;124m\"\u001b[39m\u001b[38;5;124mC://Users//student//Downloads//hare krishna//new_document.txt\u001b[39m\u001b[38;5;124m\"\u001b[39m)\n",
      "\u001b[1;31mTypeError\u001b[0m: TextIOWrapper.write() takes exactly one argument (2 given)"
     ]
    }
   ],
   "source": [
    "file= open(\"C://Users//student//Downloads//hare krishna//new_document.txt\",\"a\")\n",
    "file.write(\"Adding content to new line\")\n",
    "file.close()\n",
    "file= open(\"C://Users//student//Downloads//hare krishna//new_document.txt\")\n",
    "print(file.read())\n",
    "file.close()"
   ]
  },
  {
   "cell_type": "code",
   "execution_count": 100,
   "id": "3d6d84ae",
   "metadata": {},
   "outputs": [
    {
     "name": "stdout",
     "output_type": "stream",
     "text": [
      "It is my first text document.Writing again in this text document.Adding some more contentAdding content to new line/nAdding content to new line /nAdding content to new line\n"
     ]
    }
   ],
   "source": [
    "file= open(\"C://Users//student//Downloads//hare krishna//new_document.txt\")\n",
    "print(file.readline())\n",
    "file.close()"
   ]
  },
  {
   "cell_type": "code",
   "execution_count": 101,
   "id": "903cec94",
   "metadata": {},
   "outputs": [
    {
     "name": "stdout",
     "output_type": "stream",
     "text": [
      "It is m\n"
     ]
    }
   ],
   "source": [
    "file= open(\"C://Users//student//Downloads//hare krishna//new_document.txt\")\n",
    "print(file.read(7))\n",
    "file.close()"
   ]
  },
  {
   "cell_type": "code",
   "execution_count": 102,
   "id": "aa183b40",
   "metadata": {},
   "outputs": [
    {
     "name": "stdout",
     "output_type": "stream",
     "text": [
      "file deletion successful\n"
     ]
    }
   ],
   "source": [
    "# Delete file\n",
    "\n",
    "import os            # os= operating system\n",
    "if os.path.exists(\"C://Users//student//Downloads//hare krishna//new_document.txt\"):\n",
    "    os.remove(\"C://Users//student//Downloads//hare krishna//new_document.txt\")\n",
    "    print(\"file deletion successful\")\n",
    "else:\n",
    "    print(\"file does not exist\")"
   ]
  }
 ],
 "metadata": {
  "kernelspec": {
   "display_name": "Python 3 (ipykernel)",
   "language": "python",
   "name": "python3"
  },
  "language_info": {
   "codemirror_mode": {
    "name": "ipython",
    "version": 3
   },
   "file_extension": ".py",
   "mimetype": "text/x-python",
   "name": "python",
   "nbconvert_exporter": "python",
   "pygments_lexer": "ipython3",
   "version": "3.10.9"
  }
 },
 "nbformat": 4,
 "nbformat_minor": 5
}
